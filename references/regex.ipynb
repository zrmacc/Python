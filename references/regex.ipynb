{
  "nbformat": 4,
  "nbformat_minor": 0,
  "metadata": {
    "colab": {
      "provenance": [],
      "collapsed_sections": []
    },
    "kernelspec": {
      "name": "python3",
      "display_name": "Python 3"
    },
    "language_info": {
      "name": "python"
    }
  },
  "cells": [
    {
      "cell_type": "code",
      "execution_count": 1,
      "metadata": {
        "id": "Cp7NWeYkvqhe"
      },
      "outputs": [],
      "source": [
        "import re"
      ]
    },
    {
      "cell_type": "markdown",
      "source": [
        "**Pattern to match**\n",
        "* Regular expressions customarily use r-strings."
      ],
      "metadata": {
        "id": "Q7poucFmxM8r"
      }
    },
    {
      "cell_type": "code",
      "source": [
        "pattern = re.compile(r\"([0-9]+):([0-9]+)_([ACGT])_([ACGT])\")\n",
        "pattern"
      ],
      "metadata": {
        "colab": {
          "base_uri": "https://localhost:8080/"
        },
        "id": "FMb87_u4xOKB",
        "outputId": "e92ef04f-b905-4758-b9ac-5e1eda9c8fbc"
      },
      "execution_count": 2,
      "outputs": [
        {
          "output_type": "execute_result",
          "data": {
            "text/plain": [
              "re.compile(r'([0-9]+):([0-9]+)_([ACGT])_([ACGT])', re.UNICODE)"
            ]
          },
          "metadata": {},
          "execution_count": 2
        }
      ]
    },
    {
      "cell_type": "markdown",
      "source": [
        "**String search**\n",
        "* If the pattern is found, query contains the results. Else, query is none."
      ],
      "metadata": {
        "id": "1BqoHzqaxQ76"
      }
    },
    {
      "cell_type": "code",
      "source": [
        "# Case where query succedes.\n",
        "id = \"1:100_A_G\"\n",
        "match = pattern.search(id)\n",
        "if match:\n",
        "  print(match.group(0))\n",
        "else:\n",
        "  print(\"Query failed.\")"
      ],
      "metadata": {
        "colab": {
          "base_uri": "https://localhost:8080/"
        },
        "id": "n-MW5NW0w8YW",
        "outputId": "f6cd55a7-59c4-4cc6-e61d-78e777dbd221"
      },
      "execution_count": 3,
      "outputs": [
        {
          "output_type": "stream",
          "name": "stdout",
          "text": [
            "1:100_A_G\n"
          ]
        }
      ]
    },
    {
      "cell_type": "code",
      "source": [
        "# Case where query fails.\n",
        "id = \"rs100\"\n",
        "match = pattern.search(id)\n",
        "if match:\n",
        "  print(match.group(0))\n",
        "else:\n",
        "  print(\"Query failed.\")"
      ],
      "metadata": {
        "colab": {
          "base_uri": "https://localhost:8080/"
        },
        "id": "gzmvsPbYwamD",
        "outputId": "0052b2f8-ac1b-40bf-dc2d-49de62366cb3"
      },
      "execution_count": 4,
      "outputs": [
        {
          "output_type": "stream",
          "name": "stdout",
          "text": [
            "Query failed.\n"
          ]
        }
      ]
    },
    {
      "cell_type": "markdown",
      "source": [
        "**Extract match groups**\n",
        "* `match.group(0)` contains the entire match.\n",
        "* `match.group(i)` contains the component groups, in order.  "
      ],
      "metadata": {
        "id": "QtBddWyayF-K"
      }
    },
    {
      "cell_type": "code",
      "source": [
        "id = \"1:100_A_G\"\n",
        "match = pattern.search(id)"
      ],
      "metadata": {
        "id": "tcHAbw-1yhF2"
      },
      "execution_count": 5,
      "outputs": []
    },
    {
      "cell_type": "code",
      "source": [
        "snp = {\n",
        "  \"id\": match.group(0),\n",
        "  \"chr\": match.group(1),\n",
        "  \"pos\": match.group(2),\n",
        "  \"ref\": match.group(3),\n",
        "  \"alt\": match.group(3),\n",
        "}\n",
        "snp"
      ],
      "metadata": {
        "colab": {
          "base_uri": "https://localhost:8080/"
        },
        "id": "w8JPe-INyBy9",
        "outputId": "fe4277ab-2b73-491d-b69a-304860c6fd93"
      },
      "execution_count": 6,
      "outputs": [
        {
          "output_type": "execute_result",
          "data": {
            "text/plain": [
              "{'id': '1:100_A_G', 'chr': '1', 'pos': '100', 'ref': 'A', 'alt': 'A'}"
            ]
          },
          "metadata": {},
          "execution_count": 6
        }
      ]
    },
    {
      "cell_type": "markdown",
      "source": [
        "**Find all**\n",
        "* Result is a list of tuples."
      ],
      "metadata": {
        "id": "PphM90ZJy9A1"
      }
    },
    {
      "cell_type": "code",
      "source": [
        "ids = \"1:100_A_G 2:200_C_T rs123\"\n",
        "hits = pattern.findall(ids)"
      ],
      "metadata": {
        "id": "cCUV1Jl9yuFY"
      },
      "execution_count": 7,
      "outputs": []
    },
    {
      "cell_type": "code",
      "source": [
        "snps = []\n",
        "for hit in hits:\n",
        "  chr, pos, ref, alt = hit\n",
        "  snp = {\n",
        "    \"id\": f\"{chr}:{pos}_{ref}_{alt}\",\n",
        "    \"chr\": chr,\n",
        "    \"pos\": pos,\n",
        "    \"ref\": ref,\n",
        "    \"alt\": alt,\n",
        "  }\n",
        "  snps.append(snp)"
      ],
      "metadata": {
        "id": "h6KvgW3kzDsy"
      },
      "execution_count": 8,
      "outputs": []
    },
    {
      "cell_type": "code",
      "source": [
        "snps"
      ],
      "metadata": {
        "colab": {
          "base_uri": "https://localhost:8080/"
        },
        "id": "wQJPs4tFzkhI",
        "outputId": "7412371d-c856-41c8-f597-92dbbd3e22c6"
      },
      "execution_count": 9,
      "outputs": [
        {
          "output_type": "execute_result",
          "data": {
            "text/plain": [
              "[{'id': '1:100_A_G', 'chr': '1', 'pos': '100', 'ref': 'A', 'alt': 'G'},\n",
              " {'id': '2:200_C_T', 'chr': '2', 'pos': '200', 'ref': 'C', 'alt': 'T'}]"
            ]
          },
          "metadata": {},
          "execution_count": 9
        }
      ]
    },
    {
      "cell_type": "markdown",
      "source": [
        "**String substitution**\n",
        "* \"\\1\" is replaced by the contents of the first group, \"\\2\" by the contents of the second, etc."
      ],
      "metadata": {
        "id": "Qlyc9HUs0cZ6"
      }
    },
    {
      "cell_type": "code",
      "source": [
        "orig = r\"([0-9]+):([0-9]+)_([ACGT])_([ACGT])\"\n",
        "reformat = r\"chr\\1:\\2:\\3:\\4\"\n",
        "re.sub(orig, reformat, \"1:100_A_G\")"
      ],
      "metadata": {
        "colab": {
          "base_uri": "https://localhost:8080/",
          "height": 35
        },
        "id": "Sz_vwSrk0d1U",
        "outputId": "4ef2f11f-7250-4224-fbd5-298bbcfc4dfa"
      },
      "execution_count": 10,
      "outputs": [
        {
          "output_type": "execute_result",
          "data": {
            "text/plain": [
              "'chr1:100:A:G'"
            ],
            "application/vnd.google.colaboratory.intrinsic+json": {
              "type": "string"
            }
          },
          "metadata": {},
          "execution_count": 10
        }
      ]
    }
  ]
}