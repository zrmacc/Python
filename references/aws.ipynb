{
  "nbformat": 4,
  "nbformat_minor": 0,
  "metadata": {
    "colab": {
      "provenance": [],
      "toc_visible": true
    },
    "kernelspec": {
      "name": "python3",
      "display_name": "Python 3"
    },
    "language_info": {
      "name": "python"
    }
  },
  "cells": [
    {
      "cell_type": "markdown",
      "source": [
        "# Accessing AWS\n",
        "\n",
        "* ARN = Amazon Resource Name\n",
        "* IAM = Identity and Access Management\n",
        "  - https://docs.aws.amazon.com/IAM/latest/UserGuide/introduction.html\n",
        "  - IAM policies grant users or groups permissions. \n",
        "* Command Line Interface (CLI) installation:\n",
        "  - https://docs.aws.amazon.com/cli/latest/userguide/getting-started-install.html\n",
        "  - Once installed, generate an *access key* on the Management Console (web interface) under Users > Security Credentials > Create Access Key.\n",
        "  - On the command line, run `aws configure`. Enter the *Access Key ID* and *Secret Access Key*.  \n",
        "* IAM *roles* grant permissions to AWS services, such as ec2."
      ],
      "metadata": {
        "id": "bM8XBZQx__po"
      }
    },
    {
      "cell_type": "markdown",
      "source": [
        "# Elastic cloud compute (ec2)\n",
        "* https://docs.aws.amazon.com/ec2/index.html\n",
        "* An ec2 instance is a *virtual machine* run by Amazon's hypervisor.\n",
        "* Resources for comparing instance types: \n",
        "  - Overview: https://aws.amazon.com/ec2/instance-types/\n",
        "  - Compare instances: https://instances.vantage.sh/\n",
        "* *Security groups* determine who can access an ec2 instance.\n",
        "* An *IAM* role can be assigned to an ec2 instance. "
      ],
      "metadata": {
        "id": "QHSikOf22Gwi"
      }
    },
    {
      "cell_type": "markdown",
      "source": [
        "* AMI = Amazon Machine Image.\n",
        "  - https://docs.aws.amazon.com/AWSEC2/latest/UserGuide/AMIs.html\n",
        "  - The AMI includes the operating system, software, and additional customization.\n",
        "  - Procedure:\n",
        "    1. Create an ec2 instance. \n",
        "    2. Customize the instance.\n",
        "    3. Create an AMI from the instance (Actions > Images and Templates > Create Image).\n",
        "\n",
        "    The AMI can now be used as a template to launch new instances. \n"
      ],
      "metadata": {
        "id": "MdQdfygNxVzs"
      }
    },
    {
      "cell_type": "markdown",
      "source": [
        "* Elastic block storage (EBS) is a storage drive that attaches to an instance and can store data after the instance is terminated.\n",
        "  - https://docs.aws.amazon.com/AWSEC2/latest/UserGuide/AmazonEBS.html\n",
        "  - An EBS volume must be created in the same availability zone (AZ) as the ec2 instance.\n",
        "  - By default, the EBS attached to an instance is deleted upon termination.\n",
        "  - Snapshots provide a backup of an instance at a particular point in time\n",
        "  - Snapshots can be used to transfer a volume across AZs or Regions."
      ],
      "metadata": {
        "id": "wC-olpPstXyX"
      }
    },
    {
      "cell_type": "markdown",
      "source": [
        "* An Elastic File System (EFS) is a *shared file system* that can be simultaneously mounted by multiple ec2 instances within and across AZs.\n",
        "  - https://docs.aws.amazon.com/efs/latest/ug/whatisefs.html\n",
        "  - An EFS contrasts with an EBS, which attaches to a single ec2 instance. "
      ],
      "metadata": {
        "id": "13sET8_haoYe"
      }
    },
    {
      "cell_type": "markdown",
      "source": [
        "# Scalability vs Elasticity\n",
        "* **Vertical scalability** refers to increasing an instances size or performance.\n",
        "* **Horizontal scalability** refers to increasing the number of instances.\n",
        "* **Elasticity** is the ability to automatically scale based on the load. \n",
        "\n",
        "* An Elastic Load Balancer is a server that forwards internet traffic to multiple backend ec2 instances. \n",
        "* An Auto Scaling Group can add and remove ec2 instances in response to load. "
      ],
      "metadata": {
        "id": "tahVsW16en-i"
      }
    },
    {
      "cell_type": "markdown",
      "source": [
        "# Simple Storage Service (s3)\n",
        "\n",
        "* https://docs.aws.amazon.com/AmazonS3/latest/userguide/Welcome.html\n",
        "* s3 provides \"infinitely scaling storage\". \n",
        "* The *key* of an s3 *object* is the full object path.\n",
        "* All objects are stored in *buckets*, which are specific to a region. \n",
        "* Object versioning is enabled under a bucket's \"Properties\". \n",
        "* To dynamically replicate the contents of a bucket, including across regions, enable versioning in both the source and target buckets, then define a \"Replication Rule\" under \"Management\".\n",
        "* A \"Lifecycle Rule\" can be used to automatically change the storage class of s3 objects over time."
      ],
      "metadata": {
        "id": "HfO9sBJewO2n"
      }
    },
    {
      "cell_type": "markdown",
      "source": [
        "# Other Services\n",
        "\n",
        "* The Elastic Container Registry (ERR) is a private docker image repository.\n",
        "  - https://docs.aws.amazon.com/AmazonECS/latest/developerguide/Welcome.html\n",
        "  - The Elastic Container Service (ECS) is used to launch docker containers on instances provisioned by the user. \n",
        "  - Fargate is used to automatically provision resources for a docker container based on the required compute and memory. \n",
        "\n",
        "* Lambda is a service that runs functions on demand without requiring server management.\n",
        "  - https://docs.aws.amazon.com/lambda/latest/dg/welcome.html\n",
        "  - Lambda jobs are time-limited. \n",
        "\n",
        "* A \"batch\" job is one with a definite start and end.\n",
        "  - https://docs.aws.amazon.com/batch/latest/userguide/what-is-batch.html\n",
        "  - AWS Batch allows for efficient batch computation.\n",
        "  - Batch jobs are defined using docker images. \n",
        "  - The user submits a batch job. AWS Batch provisions and launches ec2 instances as appropriate. \n",
        "  - Batch jobs are not time-limited. \n",
        "\n",
        "* CloudFormation allocates resources are specified by a programatic template.\n",
        "  - https://docs.aws.amazon.com/AWSCloudFormation/latest/UserGuide/Welcome.html\n",
        "  - The Cloud Developer Kit (CDK) can be used to generate CloudFormation templates using familiar languages, such as Python. "
      ],
      "metadata": {
        "id": "0oPDi7dmftYx"
      }
    },
    {
      "cell_type": "code",
      "source": [],
      "metadata": {
        "id": "HsCvelxciARs"
      },
      "execution_count": null,
      "outputs": []
    }
  ]
}